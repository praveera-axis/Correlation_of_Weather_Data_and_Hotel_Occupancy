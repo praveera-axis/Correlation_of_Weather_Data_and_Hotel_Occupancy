{
 "cells": [
  {
   "cell_type": "code",
   "execution_count": 1,
   "metadata": {
    "collapsed": true
   },
   "outputs": [],
   "source": [
    "import pandas as pd\n",
    "import numpy as np\n",
    "from datetime import datetime, timedelta\n",
    "import pymongo\n",
    "from pymongo import MongoClient"
   ]
  },
  {
   "cell_type": "code",
   "execution_count": 2,
   "metadata": {
    "collapsed": true
   },
   "outputs": [],
   "source": [
    "client = MongoClient(\"localhost\", 27017)\n",
    "db = client.axis_project"
   ]
  },
  {
   "cell_type": "code",
   "execution_count": null,
   "metadata": {
    "collapsed": false,
    "scrolled": true
   },
   "outputs": [],
   "source": [
    "#read the data from mongodb collection 'cochin1 and store it in a dataframe\n",
    "input_data = db.cochin\n",
    "data = pd.DataFrame(list(input_data.find()))\n",
    "del data['_id']\n",
    "data"
   ]
  },
  {
   "cell_type": "code",
   "execution_count": 4,
   "metadata": {
    "collapsed": false
   },
   "outputs": [],
   "source": [
    "data.to_excel('C:/Users/Praveer/Desktop/Correlation_of_Weather_Data_and_Hotel_Occupancy/Hotel_Cochin_Analysis/Results/Hotel_Data_from_mongo.xlsx')"
   ]
  },
  {
   "cell_type": "code",
   "execution_count": null,
   "metadata": {
    "collapsed": false
   },
   "outputs": [],
   "source": [
    "#finding the Stay_date for each day (unwinding the data) (from 2015-01-01 to 2016-12-31 )\n",
    "\n",
    "pipeline = [ { \"$unwind\" : \"$Stay_date\" } ] \n",
    "data_for_stay_date = pd.DataFrame(list(db.cochin.aggregate(pipeline)))\n",
    "data_for_stay_date = data_for_stay_date[(data_for_stay_date.Stay_date >= '2015-01-01') & (data_for_stay_date.Stay_date <= '2016-12-31')]\n",
    "del data_for_stay_date['_id']\n",
    "data_for_stay_date"
   ]
  },
  {
   "cell_type": "code",
   "execution_count": 6,
   "metadata": {
    "collapsed": true
   },
   "outputs": [],
   "source": [
    "data_for_stay_date.to_excel('C:/Users/Praveer/Desktop/Correlation_of_Weather_Data_and_Hotel_Occupancy/Hotel_Cochin_Analysis/Results/Stay_date.xlsx')"
   ]
  },
  {
   "cell_type": "code",
   "execution_count": null,
   "metadata": {
    "collapsed": false,
    "scrolled": true
   },
   "outputs": [],
   "source": [
    "#finding the room counts from 2015-01-01 to 2016-12-31\n",
    "\n",
    "data_count = pd.DataFrame(list\n",
    "                              ( db.cochin.aggregate( [ \n",
    "                                                        { \"$unwind\" : \"$Stay_date\" },\n",
    "                                                        {\"$group\" :\n",
    "                                                            { \"_id\":\"$Stay_date\",\n",
    "                                                              \"counts_of room\":{\"$sum\":1}}}\n",
    "                                                    ])\n",
    "                              )\n",
    "                         )\n",
    "data_count = data_count[(data_count._id >= '2015-01-01') & (data_count._id <= '2016-12-31')]\n",
    "data_count"
   ]
  },
  {
   "cell_type": "code",
   "execution_count": null,
   "metadata": {
    "collapsed": false,
    "scrolled": true
   },
   "outputs": [],
   "source": [
    "#Average room rates from 2015-01-01 to 2016-12-31\n",
    "\n",
    "data_avg = pd.DataFrame(list\n",
    "                              ( db.cochin.aggregate( [ \n",
    "                                                        { \"$unwind\" : \"$Stay_date\" },\n",
    "                                                        { \"$group\" :\n",
    "                                                            { \"_id\":\"$Stay_date\",\n",
    "                                                              \"counts_of room\":{\"$sum\":1},\n",
    "                                                              \"Average\" : { \"$avg\" : \"$Room_rate\"}\n",
    "                                                            }\n",
    "                                                        }\n",
    "                                                    ])\n",
    "                              )\n",
    "                         )\n",
    "\n",
    "data_avg = data_avg[(data_avg._id >= '2015-01-01') & (data_avg._id <= '2016-12-31')]\n",
    "data_avg.set_index('_id')\n",
    "data_avg"
   ]
  },
  {
   "cell_type": "code",
   "execution_count": null,
   "metadata": {
    "collapsed": false
   },
   "outputs": [],
   "source": [
    "#Total Average room rates from 2015-01-01 to 2016-12-31\n",
    "data_tot_avg = data_avg[\"Average\"].mean()\n",
    "data_tot_avg"
   ]
  },
  {
   "cell_type": "code",
   "execution_count": null,
   "metadata": {
    "collapsed": false
   },
   "outputs": [],
   "source": [
    "#Total Average room rates\n",
    "data_total_avg = pd.DataFrame(list\n",
    "                            (db.cochin.aggregate( [ \n",
    "                                                    { \"$unwind\" : \"$Stay_date\" },\n",
    "                                                    { \"$group\" :\n",
    "                                                                 { \"_id\":\"$ Room_rate\",\n",
    "                                                                   \"counts_of room\":{\"$sum\":1},\n",
    "                                                                   \"Average\" : { \"$avg\" : \"$Room_rate\"}\n",
    "                                                                 }\n",
    "                                                     },\n",
    "                                                     { \"$group\" :\n",
    "                                                                 { \"_id\":\"null\",\n",
    "                                                                   \"Average\" : { \"$avg\" : \"$Average\"}\n",
    "                                                                 }\n",
    "                                                     }\n",
    "                                                    ])\n",
    "                             )\n",
    "                       )\n",
    "data_total_avg"
   ]
  },
  {
   "cell_type": "code",
   "execution_count": null,
   "metadata": {
    "collapsed": false,
    "scrolled": true
   },
   "outputs": [],
   "source": [
    "#Finding pick up dates\n",
    "data_pick_up = pd.DataFrame(list\n",
    "                                (db.cochin.aggregate( [\n",
    "                                                        {\"$project\" : { \"booking_date\" : { \"$substr\": [ \"$Booking_date\", 0, 10 ] }\n",
    "            \n",
    "                                                                        } },\n",
    "      \n",
    "                                                        { \"$group\" : { \"_id\": \"$booking_date\", \n",
    "                                                                       \"count\" : {\"$sum\":1} \n",
    "                                                                     }\n",
    "                                                        } \n",
    "                                                       ]\n",
    "                                                        )))\n",
    "data_pick_up = data_pick_up[(data_pick_up._id >= '2015-01-01') & (data_pick_up._id <= '2016-12-31')]\n",
    "data_pick_up = data_pick_up.sort_values(by=['_id'], ascending=[True])\n",
    "data_pick_up"
   ]
  }
 ],
 "metadata": {
  "anaconda-cloud": {},
  "kernelspec": {
   "display_name": "Python [conda root]",
   "language": "python",
   "name": "conda-root-py"
  },
  "language_info": {
   "codemirror_mode": {
    "name": "ipython",
    "version": 3
   },
   "file_extension": ".py",
   "mimetype": "text/x-python",
   "name": "python",
   "nbconvert_exporter": "python",
   "pygments_lexer": "ipython3",
   "version": "3.5.2"
  }
 },
 "nbformat": 4,
 "nbformat_minor": 1
}
