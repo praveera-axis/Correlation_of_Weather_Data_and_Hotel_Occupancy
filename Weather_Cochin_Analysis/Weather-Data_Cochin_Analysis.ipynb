{
 "cells": [
  {
   "cell_type": "code",
   "execution_count": null,
   "metadata": {
    "collapsed": false
   },
   "outputs": [],
   "source": [
    "import pandas as pd\n",
    "import numpy as np\n",
    "from datetime import datetime, timedelta\n",
    "import pymongo\n",
    "from pymongo import MongoClient"
   ]
  },
  {
   "cell_type": "code",
   "execution_count": null,
   "metadata": {
    "collapsed": true
   },
   "outputs": [],
   "source": [
    "client = MongoClient(\"localhost\", 27017)\n",
    "db = client.axis_project"
   ]
  },
  {
   "cell_type": "code",
   "execution_count": null,
   "metadata": {
    "collapsed": false,
    "scrolled": true
   },
   "outputs": [],
   "source": [
    "input_data = db.weather_cochin\n",
    "data = pd.DataFrame(list(input_data.find()))\n",
    "data.head()"
   ]
  },
  {
   "cell_type": "code",
   "execution_count": null,
   "metadata": {
    "collapsed": false,
    "scrolled": true
   },
   "outputs": [],
   "source": [
    "data[['Date','Temperature_high','Temperature_avg','Temperature_low','Dew_Point_high','Dew_Point_avg','Dew_Point_low','Humidity_high','Humidity_avg','Humidity_low','Sea_Level_Press_hPa_high','Sea_Level_Press_hPa_avg','Sea_Level_Press_hPa_low','Visibility_km_high','Visibility_km_avg','Visibility_km_low','Wind_kmph_high','Wind_kmph_avg','Precip_mm_sum']] = data[['Date','Temperature_high','Temperature_avg','Temperature_low','Dew_Point_high','Dew_Point_avg','Dew_Point_low','Humidity_high','Humidity_avg','Humidity_low','Sea_Level_Press_hPa_high','Sea_Level_Press_hPa_avg','Sea_Level_Press_hPa_low','Visibility_km_high','Visibility_km_avg','Visibility_km_low','Wind_kmph_high','Wind_kmph_avg','Precip_mm_sum']].apply(pd.to_numeric)\n"
   ]
  },
  {
   "cell_type": "code",
   "execution_count": null,
   "metadata": {
    "collapsed": true
   },
   "outputs": [],
   "source": [
    "data.to_excel('C:/Users/Praveer/Desktop/Correlation_of_Weather_Data_and_Hotel_Occupancy/Weather_Cochin_Analysis/Results/Weather_Data_from_mongo.xlsx')"
   ]
  },
  {
   "cell_type": "code",
   "execution_count": null,
   "metadata": {
    "collapsed": false
   },
   "outputs": [],
   "source": [
    "def assign (row):\n",
    "    details = []\n",
    "    if row['Dew_Point_avg'] < 10 :\n",
    "        value = 'High_Dew_Point'\n",
    "        details.append(value)\n",
    "    if row['Humidity_avg'] > 70 :\n",
    "        value = 'High_Humidity'\n",
    "        details.append(value)\n",
    "    if row['Humidity_avg'] < 20:\n",
    "        value = 'Low_Humidity'\n",
    "        details.append(value)\n",
    "    if row['Sea_Level_Press_hPa_avg'] > 1018:\n",
    "        value = 'High_Sea_Level_Pressure'\n",
    "        details.append(value)\n",
    "    if row['Sea_Level_Press_hPa_avg'] < 1008:\n",
    "        value = 'Low_Sea_Level_Pressure'\n",
    "        details.append(value)\n",
    "    if row['Temperature_high'] > 39:\n",
    "        value = 'High_Temperature'\n",
    "        details.append(value)\n",
    "    if row['Temperature_low'] < 20:\n",
    "        value = 'Low_Temperature'\n",
    "        details.append(value)\n",
    "    if row['Visibility_km_avg'] < 3:\n",
    "        value = 'Low_Visibility'\n",
    "        details.append(value)\n",
    "    if row['Wind_kmph_high'] > 29:\n",
    "        value = 'High_Wind'\n",
    "        details.append(value)\n",
    "    if row['Precip_mm_sum'] > 0:\n",
    "        value = 'High_Precipitation'\n",
    "        details.append(value)\n",
    "    if row['Event_1'] == 'Rain':\n",
    "        value = 'Rain'\n",
    "        details.append(value)\n",
    "    if row['Event_1'] == 'Thunderstorm':\n",
    "        value = 'Thunderstorm'\n",
    "        details.append(value)\n",
    "    if row['Event_1'] == 'Hail':\n",
    "        value = 'Hail'\n",
    "        details.append(value)\n",
    "    if row['Event_1'] == 'Snow':\n",
    "        value = 'Snow'\n",
    "        details.append(value)\n",
    "    if row['Event_1'] == 'Fog':\n",
    "        value = 'Fog'\n",
    "        details.append(value)\n",
    "    if (row['Event_1'] == 'Rain') & (row['Event_2'] == 'Thunderstorm'):\n",
    "        value = 'Thunderstorm'\n",
    "        details.append(value)\n",
    "    if (row['Event_1'] == 'Hail') & (row['Event_2'] == 'Thunderstorm'):\n",
    "        value = 'Thunderstorm'\n",
    "        details.append(value)\n",
    "    if (row['Event_1'] == 'Rain') & (row['Event_2'] == 'Snow'):\n",
    "        value = 'Snow'\n",
    "        details.append(value)\n",
    "    if (row['Event_1'] == 'Rain') & (row['Event_2'] == 'Hail') & (row['Event_3'] == 'Thunderstorm'):\n",
    "        value = 'Hail,Thunderstorm'\n",
    "        details.append(value)\n",
    "    if not details :\n",
    "        return ''\n",
    "    return details"
   ]
  },
  {
   "cell_type": "code",
   "execution_count": null,
   "metadata": {
    "collapsed": false
   },
   "outputs": [],
   "source": [
    "data.apply (lambda row: assign (row),axis=1)"
   ]
  },
  {
   "cell_type": "code",
   "execution_count": null,
   "metadata": {
    "collapsed": false
   },
   "outputs": [],
   "source": [
    "data['Cause'] = data.apply (lambda row: assign (row),axis=1)"
   ]
  },
  {
   "cell_type": "code",
   "execution_count": null,
   "metadata": {
    "collapsed": false,
    "scrolled": true
   },
   "outputs": [],
   "source": [
    "data"
   ]
  },
  {
   "cell_type": "code",
   "execution_count": null,
   "metadata": {
    "collapsed": false
   },
   "outputs": [],
   "source": [
    "data.to_excel('C:/Users/Praveer/Desktop/Correlation_of_Weather_Data_and_Hotel_Occupancy/Weather_Cochin_Analysis/Results/Weather_data_with_Cause.xlsx')"
   ]
  },
  {
   "cell_type": "code",
   "execution_count": null,
   "metadata": {
    "collapsed": false
   },
   "outputs": [],
   "source": []
  },
  {
   "cell_type": "code",
   "execution_count": null,
   "metadata": {
    "collapsed": true
   },
   "outputs": [],
   "source": []
  }
 ],
 "metadata": {
  "anaconda-cloud": {},
  "kernelspec": {
   "display_name": "Python [conda root]",
   "language": "python",
   "name": "conda-root-py"
  },
  "language_info": {
   "codemirror_mode": {
    "name": "ipython",
    "version": 3
   },
   "file_extension": ".py",
   "mimetype": "text/x-python",
   "name": "python",
   "nbconvert_exporter": "python",
   "pygments_lexer": "ipython3",
   "version": "3.5.2"
  }
 },
 "nbformat": 4,
 "nbformat_minor": 1
}
